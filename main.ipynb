{
  "nbformat": 4,
  "nbformat_minor": 0,
  "metadata": {
    "colab": {
      "provenance": []
    },
    "kernelspec": {
      "name": "python3",
      "display_name": "Python 3"
    },
    "language_info": {
      "name": "python"
    }
  },
  "cells": [
    {
      "cell_type": "markdown",
      "source": [
        "# **Homework 5 - The eternal significance of publications and citations!**"
      ],
      "metadata": {
        "id": "x6Ga1p0haKdo"
      }
    },
    {
      "cell_type": "markdown",
      "source": [
        "## **1. Data**\n",
        "---\n",
        "In this homework, you will work on a dataset that contains information about a group of papers and their citation relationships. You can find and download the dataset here"
      ],
      "metadata": {
        "id": "1Q8082JBaR5p"
      }
    },
    {
      "cell_type": "markdown",
      "source": [
        "### **Graphs setup**\n",
        "Based on the available data, you will create two graphs to model our relationships as follows:\n",
        "\n",
        "1. Citation graph: This graph should represent the paper's citation relationships. We want this graph to be unweighted and directed. The citation should represent the citation given from one paper to another. For example, if paper A has cited paper B, we should expect an edge from node A to B.\n",
        "\n",
        "2. Collaboration graph: This graph should represent the collaborations of the paper's authors. This graph should be weighted and undirected. Consider an appropriate weighting scheme for your edges to make your graph weighted."
      ],
      "metadata": {
        "id": "Tf8asZ6NaVyC"
      }
    },
    {
      "cell_type": "code",
      "source": [],
      "metadata": {
        "id": "1jNTqx67bGqm"
      },
      "execution_count": null,
      "outputs": []
    },
    {
      "cell_type": "markdown",
      "source": [
        "### **Data pre-processing**\n",
        "The dataset is quite large and may not fit in your memory when you try constructing your graph. So, what is the solution? You should focus your investigation on a subgraph. You can work on the most connected component in the graph. However, you must first construct and analyze the connections to identify the connected components.\n",
        "\n",
        "As a result, you will attempt to approximate that most connected component by performing the following steps:\n",
        "\n",
        "1. Identify the top 10,000 papers with the highest number of citations.\n",
        "\n",
        "2. Then the nodes of your graphs would be as follows:\n",
        "\n",
        "  **Citation graph**: you can consider each of the papers as your nodes\n",
        "\n",
        "  **Collaboration graph**: the authors of these papers would be your nodes\n",
        "\n",
        "3. For the edges of the two graphs, you would have the following cases:\n",
        "\n",
        "  **Citation graph**: only consider the citation relationship between these 10,000 papers and ignore the rest.\n",
        "\n",
        "  **Collaboration graph**: only consider the collaborations between the authors of these 10,000 papers and ignore the rest."
      ],
      "metadata": {
        "id": "i6gDJHQCazip"
      }
    },
    {
      "cell_type": "code",
      "source": [],
      "metadata": {
        "id": "wxq1V8fDadw4"
      },
      "execution_count": null,
      "outputs": []
    },
    {
      "cell_type": "markdown",
      "source": [
        "## **2. Controlling system**\n",
        "\n",
        "\n",
        "---\n",
        "\n",
        "\n",
        "Please keep the following in mind for both the backend and frontend components. The plan is to put in place a control system. You will provide the user with a menu from which he can select different functionalities. The user should be able to select from one of five different functionalities that you will implement in the following two sections. We want to have such a system so that the user can query different functionalities that he is interested in.\n",
        "\n",
        "Your function should be designed in such a way that it provides the most flexibility to the user. For example, when the user selects functionality 1, which provides some high-level information about the graph, you can allow him to pass an argument indicating which of the two types of graphs he wants to be analyzed (That is why the name of the graph is one of the arguments in the first functionality).\n",
        "\n",
        "You will implement the functionalities in the Backend section. The Frontend section primarily discusses the menu that you must provide to the user, as well as the expected results that should be displayed to the user after selecting each of the functionalities."
      ],
      "metadata": {
        "id": "wboUBh6bbUSj"
      }
    },
    {
      "cell_type": "markdown",
      "source": [
        "### **2.1. Backend Implementation**\n",
        "This section describes what each of the functionalities should be.\n"
      ],
      "metadata": {
        "id": "gQ87eh1Qbsxx"
      }
    },
    {
      "cell_type": "markdown",
      "source": [
        "#### **Functionality 1 - Graph's features**\n",
        "This function should examine a graph and report on some of its features. The input and report that this function should produce are shown below.\n",
        "\n",
        "Input:\n",
        "- The graph\n",
        "- The name of the graph\n",
        "\n",
        "Output:\n",
        "- The number of the nodes in the graph\n",
        "- The number of the edges in the graph\n",
        "- The graph density\n",
        "- The graph degree distribution\n",
        "- The average degree of the graph\n",
        "- The graph hubs (hubs are nodes having degrees more extensive than the 95th percentile of the degree distribution)\n",
        "- Whether the graph is dense or sparse"
      ],
      "metadata": {
        "id": "k9metkNEb2JH"
      }
    },
    {
      "cell_type": "code",
      "source": [],
      "metadata": {
        "id": "gtk2_Auoc1YA"
      },
      "execution_count": null,
      "outputs": []
    },
    {
      "cell_type": "markdown",
      "source": [
        "#### **Functionality 2 - Nodes' contribution**\n",
        "Using this functionality, you will identify the papers/authors who have significantly contributed to this field of study. For this analysis, focusing solely on the number of citations for the paper or the number of collaborations of the authors can be misleading. You will examine this using various centrality measurements.\n",
        "\n",
        "Input:\n",
        "- The graph\n",
        "- A node of the graph (paper/author)\n",
        "- The name of the graph\n",
        "\n",
        "Output:\n",
        "- The centrality of the node, calculated based on the following centrality measurements:\n",
        "  - Betweeness\n",
        "  - PageRank\n",
        "  - ClosenessCentrality\n",
        "  - DegreeCentrality"
      ],
      "metadata": {
        "id": "YbNGGI2Tb5-F"
      }
    },
    {
      "cell_type": "code",
      "source": [],
      "metadata": {
        "id": "muhsib8qcHzF"
      },
      "execution_count": null,
      "outputs": []
    },
    {
      "cell_type": "markdown",
      "source": [
        "#### **Functionality 3 - Shortest ordered walk**\n",
        "\n",
        "Input:\n",
        "- The graph data\n",
        "- A sequence of authors_a = [a_2, ..., a_{n-1}]\n",
        "- Initial node a_1 and an end node a_n\n",
        "- *N*: denoting the top *N* authors whose data should be considered\n",
        "\n",
        "Output:\n",
        "- The shortest walk of collaborations you need to read to get from author a_1 to author a_n and the papers you need to cross to realize this walk.\n",
        "\n",
        "Considerations: For this functionality, you must implement an algorithm that returns the shortest walk that goes from node a_j to a_n, which visits in order the nodes in a. The choice of a_j and a_n can be made randomly (or if it improves the performance of the algorithm, you can also define it in any other way)\n",
        "\n",
        "Important Notes:\n",
        "- This algorithm should be run only on the collaboration graph.\n",
        "- The algorithm needs to handle the case that the graph is not connected. Thus, only some nodes in a are reachable from a_1. In such a scenario, it is enough to let the program give in the output the string \"There is no such path.\"\n",
        "- Since we are dealing with walks, you can pass on the same node a_i more than once, but you must preserve order. It means you can go back to any author node any time you want, assuming that the order in which you visit the required nodes is still the same.\n",
        "- Once you completed your implementation, ask chatGPT for a different one leveraging another approach in solving the shortest path and prove whether this implementation is correct.\n"
      ],
      "metadata": {
        "id": "iO0QMo8jcIkR"
      }
    },
    {
      "cell_type": "code",
      "source": [],
      "metadata": {
        "id": "_LHSVtG1co1W"
      },
      "execution_count": null,
      "outputs": []
    },
    {
      "cell_type": "markdown",
      "source": [
        "#### **Functionality 4 - Disconnecting Graphs**\n",
        "Input:\n",
        "- The graph data\n",
        "- authorA: a paper to which will relate sub-graph G_a\n",
        "- authorB: a paper to which will relate sub-graph G_b\n",
        "- *N*: denoting the top *N* authors that their data should be considered\n",
        "\n",
        "Output:\n",
        "- The minimum number of edges (by considering their weights) required to disconnect the original graph in two disconnected subgraphs: G_a and G_b.\n"
      ],
      "metadata": {
        "id": "-uVH3_WMcpzp"
      }
    },
    {
      "cell_type": "code",
      "source": [],
      "metadata": {
        "id": "CeUtALoac_qB"
      },
      "execution_count": null,
      "outputs": []
    },
    {
      "cell_type": "markdown",
      "source": [
        "#### **Functionality 5 - Extracting Communities**\n",
        "Input:\n",
        "- The graph data\n",
        "- *N*: denoting the top *N* papers that their data should be considered\n",
        "- Paper_1: denoting the name of one of the papers\n",
        "- Paper_2: denoting the name of one of the papers\n",
        "\n",
        "Output:\n",
        "- The minimum number of edges that should be removed to form communities\n",
        "- A list of communities, each containing a list of papers that belong to them.\n",
        "- Whether the Paper_1 and Paper_2 belongs to the same community.\n",
        "\n",
        "Important Notes:\n",
        "To comprehend this functionality better, we suggest you take a good look at this article\n",
        "\n"
      ],
      "metadata": {
        "id": "MsGJIhu8dEc6"
      }
    },
    {
      "cell_type": "code",
      "source": [],
      "metadata": {
        "id": "jItty3vNdD7d"
      },
      "execution_count": null,
      "outputs": []
    },
    {
      "cell_type": "markdown",
      "source": [
        "### **2.2. Frontend Implementation**\n",
        "This section describes how the final results for each functionality implemented in the backend section should be presented to the user.\n",
        "\n",
        "Please run at least one query for each functionality in the final version of the notebook and comment on the results.\n",
        "\n"
      ],
      "metadata": {
        "id": "4yD5QgUAdSO6"
      }
    },
    {
      "cell_type": "markdown",
      "source": [
        "#### **Visualization 1 - Visualize graph features**\n",
        "We anticipate seeing the Functionality 1 report in Visualization 1. To be more specific, we expect you to have the following report format:\n",
        "- A table containing the following general information about the graph:\n",
        "  - Number of nodes in the graph\n",
        "  - Number of the edges in the graph\n",
        "  - Density of the graph\n",
        "  - Average degree of the graph\n",
        "- Whether the network is sparse or dense\n",
        "- A table that lists the graph's hubs\n",
        "- A plot depicting the distribution of the citations received by papers (Citation graph)\n",
        "- A plot depicting the distribution of the given citations by papers (Citation graph)\n",
        "- A plot depicting the number of collaborations of the author (Collaboration graph)\n",
        "\n",
        "**Note**: You can plot the features for a limited number of nodes (e.g., top 20) to improve the visualization of the plots."
      ],
      "metadata": {
        "id": "MS1u4PZ9dfn1"
      }
    },
    {
      "cell_type": "code",
      "source": [],
      "metadata": {
        "id": "uiA-Y20AdZQk"
      },
      "execution_count": null,
      "outputs": []
    },
    {
      "cell_type": "markdown",
      "source": [
        "#### **Visualization 2 - Visualize the node's contribution**\n",
        "We anticipate seeing the Functionality 2 report in Visualization 2. To be more specific, we expect you to have the following report format:\n",
        "- A table containing the node's centrality value based on the four centrality measurements"
      ],
      "metadata": {
        "id": "MG9_g-z4dw4s"
      }
    },
    {
      "cell_type": "code",
      "source": [],
      "metadata": {
        "id": "HgVQgFCGd2T7"
      },
      "execution_count": null,
      "outputs": []
    },
    {
      "cell_type": "markdown",
      "source": [
        "#### **Visualization 3 - Visualize the shortest-ordered route**\n",
        "We anticipate seeing the Functionality 3 report in Visualization 3. To be more specific, we expect you to have the following report format:\n",
        "- Print the papers needed to be crossed in the shortest walk in order\n",
        "- Plot the graph and identify the nodes and edges that appear in the shortest walk (please put an identifier on each edge in the shortest walk to determine the order that we should have the walk)"
      ],
      "metadata": {
        "id": "9cDciDk2d2xl"
      }
    },
    {
      "cell_type": "code",
      "source": [],
      "metadata": {
        "id": "9jQDlX00d8FV"
      },
      "execution_count": null,
      "outputs": []
    },
    {
      "cell_type": "markdown",
      "source": [
        "#### **Visualization 4 - Visualize the disconnected graph**\n",
        "We anticipate seeing the Functionality 4 report in Visualization 4. To be more specific, we expect you to have the following report format:\n",
        "- Print the number of the links that should be disconnected\n",
        "- Plot the original graph\n",
        "- Plot the graph after removing the links and identify the two nodes"
      ],
      "metadata": {
        "id": "3BzPaxEtd9Ga"
      }
    },
    {
      "cell_type": "code",
      "source": [],
      "metadata": {
        "id": "BZcxKt-NeBqQ"
      },
      "execution_count": null,
      "outputs": []
    },
    {
      "cell_type": "markdown",
      "source": [
        "#### **Visualization 5 - Visualize the communities**\n",
        "We anticipate seeing the Functionality 5 report in Visualization 5. To be more specific, we expect you to have the following report format:\n",
        "- Print the number of links that should be removed to have the communities\n",
        "- A table depicting the communities and the papers that belong to each community\n",
        "- Plot the original graph\n",
        "- Plot the graph showing the communities in the network\n",
        "- Plot the final graph and identify the community/communities of Paper_1 and Paper_2"
      ],
      "metadata": {
        "id": "8PGAtbaseDfK"
      }
    },
    {
      "cell_type": "code",
      "source": [],
      "metadata": {
        "id": "rFowrlKUeHMF"
      },
      "execution_count": null,
      "outputs": []
    },
    {
      "cell_type": "markdown",
      "source": [
        "## **3. Bonus - PageRank on MapReduce**\n",
        "\n",
        "\n",
        "---\n",
        "**IMPORTANT**: This is a bonus step, so it's not mandatory. You can get the maximum score without doing this. We will consider this, only if the rest of the homework has been completed.\n",
        "\n",
        "Working with big data has become increasingly important in the modern era as the volume and complexity of data generated grows. In this part, we ask you to implement the PageRank algorithm using MapReduce paradigm to compute the importance of papers based on the citation relationship.\n",
        "\n",
        "Since a large dataset is required to fully understand the power of this paradigm, when creating the Citation graph, consider the top 1,000,000 papers that have received the most citations; then, make the graph exclusively for those papers.\n",
        "\n",
        "**Hint**: Here are two approaches to implement the PageRank algorithm using the MapReduce paradigm that you can use as a reference for your bonus part.\n"
      ],
      "metadata": {
        "id": "pBvwrsGdevCz"
      }
    },
    {
      "cell_type": "code",
      "source": [],
      "metadata": {
        "id": "1hWw80Nee3uv"
      },
      "execution_count": null,
      "outputs": []
    },
    {
      "cell_type": "markdown",
      "source": [
        "## **4. Command Line Question (CLQ)**\n",
        "\n",
        "---\n",
        "In this question, you should use any command line tools that you know to answer the following questions using the directed and unweighted graph that you have previously created: Citation graph:\n",
        "\n",
        "1. Is there any node that acts as an important \"connector\" between the different parts of the graph?\n",
        "2. How does the degree of citation vary among the graph nodes?\n",
        "3. What is the average length of the shortest path among nodes?\n",
        "\n",
        "**Important note**: You may work on this question in any environment (AWS, your PC command line, Jupyter notebook, etc.), but the final script must be placed in CommandLine.sh, which must be executable. Please run the script and include a screenshot of the output in the notebook for evaluation.\n"
      ],
      "metadata": {
        "id": "GT0XSykRe6oA"
      }
    },
    {
      "cell_type": "code",
      "source": [],
      "metadata": {
        "id": "82Hec1iye6Ed"
      },
      "execution_count": null,
      "outputs": []
    },
    {
      "cell_type": "markdown",
      "source": [
        "## 5. Algorithmic Questions (AQ)\n",
        "\n",
        "\n",
        "---\n",
        "\n"
      ],
      "metadata": {
        "id": "f6OURUCUfIPU"
      }
    },
    {
      "cell_type": "markdown",
      "source": [
        "**Part A**\n",
        "\n",
        "A sports club hires you to create a team for the National Sports Championship. Every Italian Region sends its best *M* athletes to compete in an intense 2-day sports event, and Rome is no exception!\n",
        "\n",
        "The trainers of Team Rome need to carefully choose the best *M* athletes from a pool of *N* candidates. Each athlete is uniquely identified by a number from 1 to *N* and possesses a set of *S* sports skills. Each skill is represented by a 3-character string with only uppercase letters and a non-negative integer indicating the athlete's proficiency in that skill (always greater than 0).\n",
        "\n",
        "The trainers have extensively studied the competition format and established an optimal set of (possibly repeated) skills the team should possess to ensure the best possible performance. Each of the ten selected athletes will be assigned one of these skills as their role within the team.\n",
        "\n",
        "The team's overall score is the sum of the skill scores of its members in the roles they have been assigned. Other skills of each athlete do not contribute to the team's score.\n",
        "\n",
        "Your task is to determine the maximum possible global score for Team Rome, given the list of candidates.\n",
        "\n",
        "Note: Assigning an athlete to a role not listed in their skills is possible. In that case, that athlete's contribution to the global score will be 0.\n",
        "\n",
        "**Input** The input consists of *2+N(S+1)* lines:\n",
        "- Line 1: the numbers *N*,*M* and *S*, separated by a space.\n",
        "- Line 2: the optimal set of skills required by the trainers, as a list of *M* space-separated skill names.\n",
        "- Lines 3, . . . , *2+N(S+1)*: every group of *S+1* lines is formatted as follows:\n",
        "  - Line 1: the unique id of the athlete.\n",
        "  - Lines 2, . . . , *S+1*: one skill name and the corresponding skill score, separated by a space.\n",
        "\n",
        "**Output** Print the maximum global score that can be achieved with the available athletes."
      ],
      "metadata": {
        "id": "6dvS8UpyfPkn"
      }
    },
    {
      "cell_type": "markdown",
      "source": [
        "Your job:\n",
        "1. Implement an algorithm to solve the described mentioned problem.\n",
        "2. What is the time complexity (the Big O notation) of your solution? Please provide a detailed explanation of how you calculated the time complexity.\n",
        "3. Ask ChatGPT or any other LLM chatbot tool to check your code's time complexity (the Big O notation). Compare your answer to theirs. If the two differ, which one is right? (why?)\n",
        "4. If you algorithm has exponential time complexity, can you provide a polynomial-time version?\n",
        "5. If *S=1*, how does the time complexity of an optimal algorithm to solve this problem change?"
      ],
      "metadata": {
        "id": "m4M4k4JVgIHa"
      }
    },
    {
      "cell_type": "code",
      "source": [],
      "metadata": {
        "id": "sW03uXUzfHzo"
      },
      "execution_count": null,
      "outputs": []
    },
    {
      "cell_type": "markdown",
      "source": [
        "**Part B**\n",
        "\n",
        "The success of a project depends not only on the expertise of the people involved but also on how effectively they work together as a team. So this time, instead of focusing on who has the best skills, let's focus on finding a group of individuals who can function as a team to accomplish a specific task.\n",
        "\n",
        "Given a set of skills *T*, *X'⊆ X* our goal is to find a set of individuals, such that every required skill in *T* is exhibited by at least one individual in *X'*. Additionally, the members of team *X* should have low effort to work together i.e. all the members of the team *X* work well with each other.\n",
        "\n",
        "This problem can be easily visualised with graphs *G=(V,E)*: we define an undirected weighted graph where every element $x_i \\in X$\n",
        "has a corresponding node $v_i \\in X$. The weights of the edges represent the effort required to work well together: the lower the weight of an edge between two nodes, the less effort the corresponding team members need to work well together.\n",
        "\n",
        "We define as acceptable solution any subset $V'⊆V$ such that\n",
        "$T\\cap\\cup_{v_{i}∈V'}S_{v_i}$ where $S_{v_i} $ = {set of skills of member $x_i$ corresponding to the vertex $v_i$}.The goal is to find, among all acceptable solutions, the one that minimizes the effort to work together $E_i(V')$. The effort to work together $E_i(V')$ is the cost of the minimum spanning tree on the subgraph $G[V']$ i.e. the sum of the weights of its edges.\n",
        "\n",
        "Your job:\n",
        "1. Prove or disprove that the problem is NP-complete.\n",
        "2. Write a heuristic in order to approximate the best solution for this problem.\n",
        "3. What is the time complexity of your solution ?"
      ],
      "metadata": {
        "id": "q81oig8-giYa"
      }
    },
    {
      "cell_type": "code",
      "source": [],
      "metadata": {
        "id": "bJ3PKWY4j-x-"
      },
      "execution_count": null,
      "outputs": []
    }
  ]
}